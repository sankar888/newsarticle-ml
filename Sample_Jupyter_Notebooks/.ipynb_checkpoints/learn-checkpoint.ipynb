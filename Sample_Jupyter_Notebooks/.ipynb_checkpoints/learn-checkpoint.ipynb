{
 "cells": [
  {
   "cell_type": "code",
   "execution_count": 13,
   "metadata": {
    "scrolled": false
   },
   "outputs": [
    {
     "name": "stdout",
     "output_type": "stream",
     "text": [
      "[RangeIndex(start=0, stop=68, step=1), Index([u'Group', u'Name', u'Mandatory', u'Importance', u'Default Value',\n",
      "       u'Description'],\n",
      "      dtype='object')]\n"
     ]
    }
   ],
   "source": [
    "import pandas as pd\n",
    "\n",
    "# import a csv file\n",
    "df = pd.read_csv('./s3-configuration.csv', ',', )\n",
    "print(df.axes)"
   ]
  },
  {
   "cell_type": "code",
   "execution_count": null,
   "metadata": {},
   "outputs": [],
   "source": []
  }
 ],
 "metadata": {
  "kernelspec": {
   "display_name": "Python 2",
   "language": "python",
   "name": "python2"
  },
  "language_info": {
   "codemirror_mode": {
    "name": "ipython",
    "version": 2
   },
   "file_extension": ".py",
   "mimetype": "text/x-python",
   "name": "python",
   "nbconvert_exporter": "python",
   "pygments_lexer": "ipython2",
   "version": "2.7.5"
  }
 },
 "nbformat": 4,
 "nbformat_minor": 2
}
